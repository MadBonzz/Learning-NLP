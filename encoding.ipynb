{
 "cells": [
  {
   "cell_type": "code",
   "execution_count": 1,
   "metadata": {},
   "outputs": [
    {
     "name": "stderr",
     "output_type": "stream",
     "text": [
      "c:\\Users\\shour\\anaconda3\\envs\\shourya\\Lib\\site-packages\\numpy\\_distributor_init.py:30: UserWarning: loaded more than 1 DLL from .libs:\n",
      "c:\\Users\\shour\\anaconda3\\envs\\shourya\\Lib\\site-packages\\numpy\\.libs\\libopenblas64__v0.3.21-gcc_10_3_0.dll\n",
      "c:\\Users\\shour\\anaconda3\\envs\\shourya\\Lib\\site-packages\\numpy\\.libs\\libopenblas64__v0.3.23-246-g3d31191b-gcc_10_3_0.dll\n",
      "  warnings.warn(\"loaded more than 1 DLL from .libs:\"\n"
     ]
    }
   ],
   "source": [
    "import numpy as np\n",
    "import tensorflow as tf \n",
    "from tensorflow import keras"
   ]
  },
  {
   "cell_type": "code",
   "execution_count": 2,
   "metadata": {},
   "outputs": [],
   "source": [
    "random_sequences = [\"Shourya Jain\",\n",
    "                    \"CSE with Business Systems\",\n",
    "                    \"Vellore Institute of Technology\",\n",
    "                    \"CodeChef-VIT\",\n",
    "                    \"Messi is goat\",\n",
    "                    \"Barcelona is the best team\",\n",
    "                    \"I live in Delhi\",\n",
    "                    \"Happy New Year\",\n",
    "                    \"Jai Shree Ram\",\n",
    "                    \"Indira Gandhi International Airport\"]"
   ]
  },
  {
   "cell_type": "markdown",
   "metadata": {},
   "source": [
    "# Using Integer Encoding"
   ]
  },
  {
   "cell_type": "code",
   "execution_count": 3,
   "metadata": {},
   "outputs": [],
   "source": [
    "from keras.preprocessing.text import Tokenizer\n",
    "tokenizer = Tokenizer(oov_token=\"missing\")"
   ]
  },
  {
   "cell_type": "code",
   "execution_count": 4,
   "metadata": {},
   "outputs": [],
   "source": [
    "tokenizer.fit_on_texts(random_sequences)"
   ]
  },
  {
   "cell_type": "code",
   "execution_count": 5,
   "metadata": {},
   "outputs": [
    {
     "data": {
      "text/plain": [
       "{'num_words': None,\n",
       " 'filters': '!\"#$%&()*+,-./:;<=>?@[\\\\]^_`{|}~\\t\\n',\n",
       " 'lower': True,\n",
       " 'split': ' ',\n",
       " 'char_level': False,\n",
       " 'oov_token': 'missing',\n",
       " 'document_count': 10,\n",
       " 'word_counts': '{\"shourya\": 1, \"jain\": 1, \"cse\": 1, \"with\": 1, \"business\": 1, \"systems\": 1, \"vellore\": 1, \"institute\": 1, \"of\": 1, \"technology\": 1, \"codechef\": 1, \"vit\": 1, \"messi\": 1, \"is\": 2, \"goat\": 1, \"barcelona\": 1, \"the\": 1, \"best\": 1, \"team\": 1, \"i\": 1, \"live\": 1, \"in\": 1, \"delhi\": 1, \"happy\": 1, \"new\": 1, \"year\": 1, \"jai\": 1, \"shree\": 1, \"ram\": 1, \"indira\": 1, \"gandhi\": 1, \"international\": 1, \"airport\": 1}',\n",
       " 'word_docs': '{\"jain\": 1, \"shourya\": 1, \"cse\": 1, \"with\": 1, \"systems\": 1, \"business\": 1, \"institute\": 1, \"of\": 1, \"vellore\": 1, \"technology\": 1, \"codechef\": 1, \"vit\": 1, \"is\": 2, \"goat\": 1, \"messi\": 1, \"best\": 1, \"the\": 1, \"team\": 1, \"barcelona\": 1, \"delhi\": 1, \"i\": 1, \"in\": 1, \"live\": 1, \"year\": 1, \"new\": 1, \"happy\": 1, \"shree\": 1, \"ram\": 1, \"jai\": 1, \"airport\": 1, \"international\": 1, \"gandhi\": 1, \"indira\": 1}',\n",
       " 'index_docs': '{\"4\": 1, \"3\": 1, \"5\": 1, \"6\": 1, \"8\": 1, \"7\": 1, \"10\": 1, \"11\": 1, \"9\": 1, \"12\": 1, \"13\": 1, \"14\": 1, \"2\": 2, \"16\": 1, \"15\": 1, \"19\": 1, \"18\": 1, \"20\": 1, \"17\": 1, \"24\": 1, \"21\": 1, \"23\": 1, \"22\": 1, \"27\": 1, \"26\": 1, \"25\": 1, \"29\": 1, \"30\": 1, \"28\": 1, \"34\": 1, \"33\": 1, \"32\": 1, \"31\": 1}',\n",
       " 'index_word': '{\"1\": \"missing\", \"2\": \"is\", \"3\": \"shourya\", \"4\": \"jain\", \"5\": \"cse\", \"6\": \"with\", \"7\": \"business\", \"8\": \"systems\", \"9\": \"vellore\", \"10\": \"institute\", \"11\": \"of\", \"12\": \"technology\", \"13\": \"codechef\", \"14\": \"vit\", \"15\": \"messi\", \"16\": \"goat\", \"17\": \"barcelona\", \"18\": \"the\", \"19\": \"best\", \"20\": \"team\", \"21\": \"i\", \"22\": \"live\", \"23\": \"in\", \"24\": \"delhi\", \"25\": \"happy\", \"26\": \"new\", \"27\": \"year\", \"28\": \"jai\", \"29\": \"shree\", \"30\": \"ram\", \"31\": \"indira\", \"32\": \"gandhi\", \"33\": \"international\", \"34\": \"airport\"}',\n",
       " 'word_index': '{\"missing\": 1, \"is\": 2, \"shourya\": 3, \"jain\": 4, \"cse\": 5, \"with\": 6, \"business\": 7, \"systems\": 8, \"vellore\": 9, \"institute\": 10, \"of\": 11, \"technology\": 12, \"codechef\": 13, \"vit\": 14, \"messi\": 15, \"goat\": 16, \"barcelona\": 17, \"the\": 18, \"best\": 19, \"team\": 20, \"i\": 21, \"live\": 22, \"in\": 23, \"delhi\": 24, \"happy\": 25, \"new\": 26, \"year\": 27, \"jai\": 28, \"shree\": 29, \"ram\": 30, \"indira\": 31, \"gandhi\": 32, \"international\": 33, \"airport\": 34}'}"
      ]
     },
     "execution_count": 5,
     "metadata": {},
     "output_type": "execute_result"
    }
   ],
   "source": [
    "tokenizer.get_config()"
   ]
  },
  {
   "cell_type": "code",
   "execution_count": 6,
   "metadata": {},
   "outputs": [],
   "source": [
    "tokenized_sequences = tokenizer.texts_to_sequences(random_sequences)"
   ]
  },
  {
   "cell_type": "code",
   "execution_count": 7,
   "metadata": {},
   "outputs": [
    {
     "data": {
      "text/plain": [
       "[[3, 4],\n",
       " [5, 6, 7, 8],\n",
       " [9, 10, 11, 12],\n",
       " [13, 14],\n",
       " [15, 2, 16],\n",
       " [17, 2, 18, 19, 20],\n",
       " [21, 22, 23, 24],\n",
       " [25, 26, 27],\n",
       " [28, 29, 30],\n",
       " [31, 32, 33, 34]]"
      ]
     },
     "execution_count": 7,
     "metadata": {},
     "output_type": "execute_result"
    }
   ],
   "source": [
    "tokenized_sequences"
   ]
  },
  {
   "cell_type": "code",
   "execution_count": 8,
   "metadata": {},
   "outputs": [],
   "source": [
    "from keras.utils import pad_sequences"
   ]
  },
  {
   "cell_type": "code",
   "execution_count": 9,
   "metadata": {},
   "outputs": [],
   "source": [
    "tokenized_sequences = pad_sequences(tokenized_sequences, padding='post')"
   ]
  },
  {
   "cell_type": "code",
   "execution_count": 10,
   "metadata": {},
   "outputs": [
    {
     "data": {
      "text/plain": [
       "array([[ 3,  4,  0,  0,  0],\n",
       "       [ 5,  6,  7,  8,  0],\n",
       "       [ 9, 10, 11, 12,  0],\n",
       "       [13, 14,  0,  0,  0],\n",
       "       [15,  2, 16,  0,  0],\n",
       "       [17,  2, 18, 19, 20],\n",
       "       [21, 22, 23, 24,  0],\n",
       "       [25, 26, 27,  0,  0],\n",
       "       [28, 29, 30,  0,  0],\n",
       "       [31, 32, 33, 34,  0]])"
      ]
     },
     "execution_count": 10,
     "metadata": {},
     "output_type": "execute_result"
    }
   ],
   "source": [
    "tokenized_sequences"
   ]
  },
  {
   "cell_type": "code",
   "execution_count": 11,
   "metadata": {},
   "outputs": [],
   "source": [
    "from keras.datasets import imdb\n",
    "from keras import Sequential\n",
    "from keras.layers import Dense,SimpleRNN"
   ]
  },
  {
   "cell_type": "code",
   "execution_count": 12,
   "metadata": {},
   "outputs": [],
   "source": [
    "(x_train, y_train),(x_test, y_test) = imdb.load_data()"
   ]
  },
  {
   "cell_type": "code",
   "execution_count": 13,
   "metadata": {},
   "outputs": [],
   "source": [
    "x_train = pad_sequences(x_train, maxlen=200, padding='pre', truncating='pre')\n",
    "x_test = pad_sequences(x_test, maxlen=200, padding='pre', truncating='pre')"
   ]
  },
  {
   "cell_type": "code",
   "execution_count": 14,
   "metadata": {},
   "outputs": [
    {
     "data": {
      "text/plain": [
       "(200,)"
      ]
     },
     "execution_count": 14,
     "metadata": {},
     "output_type": "execute_result"
    }
   ],
   "source": [
    "x_train[0].shape"
   ]
  },
  {
   "cell_type": "code",
   "execution_count": 15,
   "metadata": {},
   "outputs": [],
   "source": [
    "model = Sequential([\n",
    "    SimpleRNN(128, input_shape=(200,1), return_sequences=False),\n",
    "    Dense(3,activation='relu'),\n",
    "    Dense(1,activation='sigmoid')\n",
    "])"
   ]
  },
  {
   "cell_type": "code",
   "execution_count": 16,
   "metadata": {},
   "outputs": [
    {
     "name": "stdout",
     "output_type": "stream",
     "text": [
      "Model: \"sequential\"\n",
      "_________________________________________________________________\n",
      " Layer (type)                Output Shape              Param #   \n",
      "=================================================================\n",
      " simple_rnn (SimpleRNN)      (None, 128)               16640     \n",
      "                                                                 \n",
      " dense (Dense)               (None, 3)                 387       \n",
      "                                                                 \n",
      " dense_1 (Dense)             (None, 1)                 4         \n",
      "                                                                 \n",
      "=================================================================\n",
      "Total params: 17031 (66.53 KB)\n",
      "Trainable params: 17031 (66.53 KB)\n",
      "Non-trainable params: 0 (0.00 Byte)\n",
      "_________________________________________________________________\n"
     ]
    }
   ],
   "source": [
    "model.summary()"
   ]
  },
  {
   "cell_type": "code",
   "execution_count": 17,
   "metadata": {},
   "outputs": [
    {
     "name": "stdout",
     "output_type": "stream",
     "text": [
      "Epoch 1/10\n",
      "782/782 [==============================] - 26s 32ms/step - loss: 0.6993 - accuracy: 0.5062 - val_loss: 0.6932 - val_accuracy: 0.5012\n",
      "Epoch 2/10\n",
      "782/782 [==============================] - 25s 32ms/step - loss: 0.6931 - accuracy: 0.5086 - val_loss: 0.6933 - val_accuracy: 0.5000\n",
      "Epoch 3/10\n",
      "782/782 [==============================] - 29s 37ms/step - loss: 0.6932 - accuracy: 0.4991 - val_loss: 0.6931 - val_accuracy: 0.5000\n",
      "Epoch 4/10\n",
      "782/782 [==============================] - 27s 34ms/step - loss: 0.6932 - accuracy: 0.4978 - val_loss: 0.6931 - val_accuracy: 0.5000\n",
      "Epoch 5/10\n",
      "782/782 [==============================] - 27s 34ms/step - loss: 0.6932 - accuracy: 0.4933 - val_loss: 0.6932 - val_accuracy: 0.5000\n",
      "Epoch 6/10\n",
      "782/782 [==============================] - 27s 34ms/step - loss: 0.6932 - accuracy: 0.4967 - val_loss: 0.6931 - val_accuracy: 0.5000\n",
      "Epoch 7/10\n",
      "782/782 [==============================] - 26s 33ms/step - loss: 0.6932 - accuracy: 0.4950 - val_loss: 0.6931 - val_accuracy: 0.5000\n",
      "Epoch 8/10\n",
      "782/782 [==============================] - 27s 34ms/step - loss: 0.6932 - accuracy: 0.4995 - val_loss: 0.6932 - val_accuracy: 0.5000\n",
      "Epoch 9/10\n",
      "782/782 [==============================] - 26s 33ms/step - loss: 0.6932 - accuracy: 0.4944 - val_loss: 0.6931 - val_accuracy: 0.5000\n",
      "Epoch 10/10\n",
      "782/782 [==============================] - 27s 34ms/step - loss: 0.6932 - accuracy: 0.5008 - val_loss: 0.6932 - val_accuracy: 0.5000\n"
     ]
    },
    {
     "data": {
      "text/plain": [
       "<keras.src.callbacks.History at 0x146af973cd0>"
      ]
     },
     "execution_count": 17,
     "metadata": {},
     "output_type": "execute_result"
    }
   ],
   "source": [
    "model.compile(loss='binary_crossentropy',optimizer='adam',metrics=['accuracy'])\n",
    "model.fit(x_train,y_train,epochs=10,validation_data=(x_test,y_test))"
   ]
  },
  {
   "cell_type": "markdown",
   "metadata": {},
   "source": [
    "# Using Embeddings"
   ]
  },
  {
   "cell_type": "code",
   "execution_count": 18,
   "metadata": {},
   "outputs": [],
   "source": [
    "from keras.layers import Embedding"
   ]
  },
  {
   "cell_type": "code",
   "execution_count": 21,
   "metadata": {},
   "outputs": [],
   "source": [
    "embedding = Sequential([\n",
    "    Embedding(35, output_dim=2,input_length=5)\n",
    "])"
   ]
  },
  {
   "cell_type": "code",
   "execution_count": 22,
   "metadata": {},
   "outputs": [],
   "source": [
    "embedding.compile('adam','accuracy')"
   ]
  },
  {
   "cell_type": "code",
   "execution_count": 23,
   "metadata": {},
   "outputs": [
    {
     "name": "stdout",
     "output_type": "stream",
     "text": [
      "1/1 [==============================] - 0s 63ms/step\n"
     ]
    }
   ],
   "source": [
    "embedded_sequences = embedding.predict(tokenized_sequences)"
   ]
  },
  {
   "cell_type": "code",
   "execution_count": 24,
   "metadata": {},
   "outputs": [
    {
     "data": {
      "text/plain": [
       "array([[[-1.99116226e-02,  2.37735845e-02],\n",
       "        [ 3.40229534e-02,  7.85674900e-03],\n",
       "        [-4.26297076e-02, -1.11332908e-02],\n",
       "        [-4.26297076e-02, -1.11332908e-02],\n",
       "        [-4.26297076e-02, -1.11332908e-02]],\n",
       "\n",
       "       [[ 9.35692713e-03,  1.35928504e-02],\n",
       "        [ 3.36445011e-02, -4.18980494e-02],\n",
       "        [-4.78463061e-02, -9.72487032e-04],\n",
       "        [-2.82916315e-02, -1.94262750e-02],\n",
       "        [-4.26297076e-02, -1.11332908e-02]],\n",
       "\n",
       "       [[-4.36211340e-02,  4.70906757e-02],\n",
       "        [ 5.52830845e-03,  4.08328511e-02],\n",
       "        [ 2.60695256e-02,  3.47011164e-03],\n",
       "        [ 4.05148007e-02, -4.97259870e-02],\n",
       "        [-4.26297076e-02, -1.11332908e-02]],\n",
       "\n",
       "       [[ 2.70511992e-02,  1.49904005e-02],\n",
       "        [-4.05587927e-02, -1.51227340e-02],\n",
       "        [-4.26297076e-02, -1.11332908e-02],\n",
       "        [-4.26297076e-02, -1.11332908e-02],\n",
       "        [-4.26297076e-02, -1.11332908e-02]],\n",
       "\n",
       "       [[-2.63562687e-02, -1.24545023e-03],\n",
       "        [-9.69298929e-03,  2.99124978e-02],\n",
       "        [-2.28967797e-02,  4.04099375e-03],\n",
       "        [-4.26297076e-02, -1.11332908e-02],\n",
       "        [-4.26297076e-02, -1.11332908e-02]],\n",
       "\n",
       "       [[ 2.40654387e-02, -2.94208527e-02],\n",
       "        [-9.69298929e-03,  2.99124978e-02],\n",
       "        [ 2.33400948e-02,  4.21613455e-03],\n",
       "        [ 2.31657736e-02, -4.05428559e-03],\n",
       "        [-2.44474299e-02, -1.29810199e-02]],\n",
       "\n",
       "       [[-3.30062881e-02, -4.84956875e-02],\n",
       "        [-1.66437626e-02,  1.26735121e-03],\n",
       "        [ 2.41625644e-02, -2.20620390e-02],\n",
       "        [ 5.65118715e-03, -3.66433375e-02],\n",
       "        [-4.26297076e-02, -1.11332908e-02]],\n",
       "\n",
       "       [[-4.91153002e-02,  2.32162215e-02],\n",
       "        [ 7.84527138e-03,  2.46475451e-02],\n",
       "        [ 1.41859055e-05,  3.56628560e-02],\n",
       "        [-4.26297076e-02, -1.11332908e-02],\n",
       "        [-4.26297076e-02, -1.11332908e-02]],\n",
       "\n",
       "       [[ 2.64522322e-02, -4.35298197e-02],\n",
       "        [ 2.11754180e-02, -1.65378228e-02],\n",
       "        [ 3.76488827e-02,  1.65399164e-03],\n",
       "        [-4.26297076e-02, -1.11332908e-02],\n",
       "        [-4.26297076e-02, -1.11332908e-02]],\n",
       "\n",
       "       [[-3.61515880e-02, -7.77077675e-03],\n",
       "        [ 1.86388828e-02,  3.33519317e-02],\n",
       "        [ 6.28348440e-03, -9.90434736e-03],\n",
       "        [ 2.09875591e-02, -2.75111794e-02],\n",
       "        [-4.26297076e-02, -1.11332908e-02]]], dtype=float32)"
      ]
     },
     "execution_count": 24,
     "metadata": {},
     "output_type": "execute_result"
    }
   ],
   "source": [
    "embedded_sequences"
   ]
  },
  {
   "cell_type": "code",
   "execution_count": 41,
   "metadata": {},
   "outputs": [],
   "source": [
    "model = Sequential([\n",
    "    Embedding(100000,output_dim=10,input_length=200),\n",
    "    SimpleRNN(32, return_sequences=False),\n",
    "    #Dense(3,activation='relu'),\n",
    "    Dense(1,activation='sigmoid')\n",
    "])"
   ]
  },
  {
   "cell_type": "code",
   "execution_count": 42,
   "metadata": {},
   "outputs": [
    {
     "name": "stdout",
     "output_type": "stream",
     "text": [
      "Model: \"sequential_6\"\n",
      "_________________________________________________________________\n",
      " Layer (type)                Output Shape              Param #   \n",
      "=================================================================\n",
      " embedding_6 (Embedding)     (None, 200, 10)           1000000   \n",
      "                                                                 \n",
      " simple_rnn_3 (SimpleRNN)    (None, 32)                1376      \n",
      "                                                                 \n",
      " dense_6 (Dense)             (None, 1)                 33        \n",
      "                                                                 \n",
      "=================================================================\n",
      "Total params: 1001409 (3.82 MB)\n",
      "Trainable params: 1001409 (3.82 MB)\n",
      "Non-trainable params: 0 (0.00 Byte)\n",
      "_________________________________________________________________\n"
     ]
    }
   ],
   "source": [
    "model.summary()"
   ]
  },
  {
   "cell_type": "code",
   "execution_count": 43,
   "metadata": {},
   "outputs": [],
   "source": [
    "model.compile(loss='binary_crossentropy',optimizer='adam',metrics=['accuracy'])"
   ]
  },
  {
   "cell_type": "code",
   "execution_count": 44,
   "metadata": {},
   "outputs": [
    {
     "name": "stdout",
     "output_type": "stream",
     "text": [
      "Epoch 1/10\n",
      "782/782 [==============================] - 21s 25ms/step - loss: 0.6018 - accuracy: 0.6429 - val_loss: 0.4244 - val_accuracy: 0.8173\n",
      "Epoch 2/10\n",
      "782/782 [==============================] - 19s 24ms/step - loss: 0.3526 - accuracy: 0.8514 - val_loss: 0.3983 - val_accuracy: 0.8352\n",
      "Epoch 3/10\n",
      "782/782 [==============================] - 19s 25ms/step - loss: 0.2053 - accuracy: 0.9214 - val_loss: 0.4256 - val_accuracy: 0.8277\n",
      "Epoch 4/10\n",
      "782/782 [==============================] - 20s 26ms/step - loss: 0.1058 - accuracy: 0.9646 - val_loss: 0.6151 - val_accuracy: 0.7802\n",
      "Epoch 5/10\n",
      "782/782 [==============================] - 19s 25ms/step - loss: 0.0758 - accuracy: 0.9748 - val_loss: 0.7216 - val_accuracy: 0.7988\n",
      "Epoch 6/10\n",
      "782/782 [==============================] - 19s 24ms/step - loss: 0.0342 - accuracy: 0.9893 - val_loss: 0.6674 - val_accuracy: 0.8102\n",
      "Epoch 7/10\n",
      "782/782 [==============================] - 20s 25ms/step - loss: 0.0162 - accuracy: 0.9955 - val_loss: 0.7863 - val_accuracy: 0.7936\n",
      "Epoch 8/10\n",
      "782/782 [==============================] - 20s 25ms/step - loss: 0.0398 - accuracy: 0.9867 - val_loss: 0.8097 - val_accuracy: 0.7929\n",
      "Epoch 9/10\n",
      "782/782 [==============================] - 20s 25ms/step - loss: 0.0510 - accuracy: 0.9804 - val_loss: 0.8235 - val_accuracy: 0.8064\n",
      "Epoch 10/10\n",
      "782/782 [==============================] - 19s 25ms/step - loss: 0.0048 - accuracy: 0.9989 - val_loss: 0.9278 - val_accuracy: 0.7762\n"
     ]
    },
    {
     "data": {
      "text/plain": [
       "<keras.src.callbacks.History at 0x146b84668d0>"
      ]
     },
     "execution_count": 44,
     "metadata": {},
     "output_type": "execute_result"
    }
   ],
   "source": [
    "model.fit(x_train,y_train,epochs=10,validation_data=(x_test,y_test))"
   ]
  },
  {
   "cell_type": "code",
   "execution_count": null,
   "metadata": {},
   "outputs": [],
   "source": []
  }
 ],
 "metadata": {
  "kernelspec": {
   "display_name": "shourya",
   "language": "python",
   "name": "python3"
  },
  "language_info": {
   "codemirror_mode": {
    "name": "ipython",
    "version": 3
   },
   "file_extension": ".py",
   "mimetype": "text/x-python",
   "name": "python",
   "nbconvert_exporter": "python",
   "pygments_lexer": "ipython3",
   "version": "3.11.4"
  }
 },
 "nbformat": 4,
 "nbformat_minor": 2
}
